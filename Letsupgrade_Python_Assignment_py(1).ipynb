{
  "nbformat": 4,
  "nbformat_minor": 0,
  "metadata": {
    "colab": {
      "provenance": []
    },
    "kernelspec": {
      "name": "python3",
      "display_name": "Python 3"
    },
    "language_info": {
      "name": "python"
    }
  },
  "cells": [
    {
      "cell_type": "code",
      "execution_count": null,
      "metadata": {
        "id": "oyrFIGFvQ2VX"
      },
      "outputs": [],
      "source": []
    },
    {
      "cell_type": "code",
      "source": [
        "num = int(input(\"Enter the integer number\"))\n",
        "\n",
        "if(num%2)==0:\n",
        "  print(num ,\" it is an even number\")\n",
        "else:\n",
        "  print(num ,\" it is an odd number\")\n",
        "\n",
        "\n"
      ],
      "metadata": {
        "colab": {
          "base_uri": "https://localhost:8080/"
        },
        "id": "Im08d9lJTouz",
        "outputId": "8228178e-d332-49de-b110-82c47e65a39d"
      },
      "execution_count": 12,
      "outputs": [
        {
          "output_type": "stream",
          "name": "stdout",
          "text": [
            "Enter the integer number19\n",
            "19  it is an odd number\n"
          ]
        }
      ]
    }
  ]
}